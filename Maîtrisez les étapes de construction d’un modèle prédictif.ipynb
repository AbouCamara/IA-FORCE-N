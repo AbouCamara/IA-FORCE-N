{
  "nbformat": 4,
  "nbformat_minor": 0,
  "metadata": {
    "colab": {
      "provenance": [],
      "toc_visible": true,
      "authorship_tag": "ABX9TyMLh/DL7DTObGpORuhVwb/9",
      "include_colab_link": true
    },
    "kernelspec": {
      "name": "python3",
      "display_name": "Python 3"
    },
    "language_info": {
      "name": "python"
    }
  },
  "cells": [
    {
      "cell_type": "markdown",
      "metadata": {
        "id": "view-in-github",
        "colab_type": "text"
      },
      "source": [
        "<a href=\"https://colab.research.google.com/github/AbouCamara/IA-FORCE-N/blob/main/Ma%C3%AEtrisez%20les%20%C3%A9tapes%20de%20construction%20d%E2%80%99un%20mod%C3%A8le%20pr%C3%A9dictif.ipynb\" target=\"_parent\"><img src=\"https://colab.research.google.com/assets/colab-badge.svg\" alt=\"Open In Colab\"/></a>"
      ]
    },
    {
      "cell_type": "code",
      "execution_count": 53,
      "metadata": {
        "colab": {
          "base_uri": "https://localhost:8080/"
        },
        "id": "YJqpomCW9q4E",
        "outputId": "6a463a9c-2001-4479-cad0-410aff238f95"
      },
      "outputs": [
        {
          "output_type": "stream",
          "name": "stdout",
          "text": [
            "R^2 : 0.63\n",
            " poids = 0.11 * sexe + 0.55 * age  + du bruit\n",
            "R^2 : 0.631\n",
            " poids = 0.11 * sexe + 0.55 * age +  0.55 * taille + du bruit\n",
            "\n",
            "2eme Modele: poids ~ sexe + age + taille\n",
            "\tmean_squared_error(y, y_pred): 28.599112263301482\n",
            "\tmean_absolute_error(y, y_pred): 4.1635921045133335\n",
            "\tmean_absolute_percentage_error(y, y_pred): 0.0905309686187008\n"
          ]
        },
        {
          "output_type": "stream",
          "name": "stderr",
          "text": [
            "/usr/local/lib/python3.10/dist-packages/sklearn/base.py:493: UserWarning: X does not have valid feature names, but LinearRegression was fitted with feature names\n",
            "  warnings.warn(\n",
            "/usr/local/lib/python3.10/dist-packages/sklearn/base.py:493: UserWarning: X does not have valid feature names, but LinearRegression was fitted with feature names\n",
            "  warnings.warn(\n"
          ]
        }
      ],
      "source": [
        "import pandas as pd\n",
        "import numpy as np\n",
        "\n",
        "df = pd.read_csv('https://raw.githubusercontent.com/OpenClassrooms-Student-Center/8063076-Initiez-vous-au-Machine-Learning/master/data/age_vs_poids_vs_taille_vs_sexe.csv')\n",
        "\n",
        "# les 5 premieres lignes de la dataframe\n",
        "df.head()\n",
        "\n",
        "# principales statistiques de la dataframe\n",
        "df.describe()\n",
        "# les variables predictives\n",
        "\n",
        "X = df[['age','taille']]\n",
        "\n",
        "# la variable cible, le poids\n",
        "y = df.poids\n",
        "\n",
        "# On choisit un model de regression lineaire\n",
        "\n",
        "from sklearn.linear_model import LinearRegression\n",
        "reg = LinearRegression()\n",
        "\n",
        "# on entraîne ce modèle sur les données avec la méthode fit\n",
        "reg.fit(X, y)\n",
        "\n",
        "# et on obtient directement un score\n",
        "# print(reg.score(X, y))\n",
        "# et on obtient directement un score.\n",
        "print(f\"R^2 : {np.round(reg.score(X, y), 3)}\")\n",
        "\n",
        "# ainsi que les coefficients a,b,c de la régression linéaire\n",
        "# print(reg.coef_)\n",
        "\n",
        "# ainsi que les coefficients a,b,c de la régression linéaire\n",
        "print(f\" poids = {np.round(reg.coef_[0],  2)} * sexe + {np.round(reg.coef_[1],  2)} * age  + du bruit\")\n",
        "\n",
        "# les variables prédictives\n",
        "X = df[['sexe', 'age', 'taille']]\n",
        "\n",
        "# la variable cible, le poids\n",
        "y = df.poids\n",
        "\n",
        "# entrainons un nouveau modele de regression lineaire\n",
        "reg2 = LinearRegression()\n",
        "reg2.fit(X,y)\n",
        "\n",
        "# le score\n",
        "print(f\"R^2 : {np.round(reg2.score(X, y), 3)}\")\n",
        "# et les coefficients\n",
        "print(f\" poids = {np.round(reg.coef_[0],  2)} * sexe + {np.round(reg.coef_[1],  2)} * age +  {np.round(reg2.coef_[2],  2)} * taille + du bruit\")\n",
        "\n",
        "# prediction du poids pour un garçon agé de 150 mois\n",
        "reg.predict(np.array([[0, 150]]))\n",
        "\n",
        "# prediction du poids pour un garçon agé de 150 mois et de taille 170 cm\n",
        "reg2.predict(np.array([[0, 150, 170]]))\n",
        "\n",
        "np.array([0, 150]).reshape(1, -1)\n",
        "\n",
        "# obtenons les predictions des 2 modeles\n",
        "\n",
        "\n",
        "y_pred2  = reg2.predict(df[['sexe', 'age',  'taille']])\n",
        "\n",
        "\n",
        "\n",
        "# import metrics\n",
        "\n",
        "from sklearn.metrics import mean_squared_error, mean_absolute_error, mean_absolute_percentage_error\n",
        "\n",
        "print()\n",
        "print(\"2eme Modele: poids ~ sexe + age + taille\")\n",
        "print(f\"\\tmean_squared_error(y, y_pred): {mean_squared_error(y, y_pred2)}\")\n",
        "print(f\"\\tmean_absolute_error(y, y_pred): {mean_absolute_error(y, y_pred2)}\")\n",
        "print(f\"\\tmean_absolute_percentage_error(y, y_pred): {mean_absolute_percentage_error(y, y_pred2)}\")\n",
        "\n",
        "\n"
      ]
    }
  ]
}